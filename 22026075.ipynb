{
 "cells": [
  {
   "cell_type": "code",
   "execution_count": 79,
   "metadata": {},
   "outputs": [],
   "source": [
    "# You may add additional imports here\n",
    "import random\n",
    "import matplotlib.pyplot as plt\n",
    "import csv"
   ]
  },
  {
   "cell_type": "markdown",
   "metadata": {},
   "source": [
    "Question 1\n",
    "==========\n",
    "\n",
    "All parts of Question 1 use the _point-a-rally (PARS) scoring_ system.\n",
    "\n",
    "**Question 1a:** Complete the following function so that it implements the PARS algorithm from the coursework specification.\n",
    "\n",
    "**[Functionality: 7 marks]**"
   ]
  },
  {
   "cell_type": "code",
   "execution_count": 80,
   "metadata": {},
   "outputs": [],
   "source": [
    "def game(ra, rb):\n",
    "    probability_a = ra/(ra + rb)\n",
    "    score_a = 0\n",
    "    score_b = 0\n",
    "    while (score_a != 11 and score_b <=9) or (score_b != 11 and score_a <=9):\n",
    "        r_number = random.random()\n",
    "        if probability_a > r_number:\n",
    "            score_a += 1\n",
    "        else:\n",
    "            score_b += 1\n",
    "    return score_a, score_b\n"
   ]
  },
  {
   "cell_type": "markdown",
   "metadata": {},
   "source": [
    "**Testing:** If the random seed is set to 57, then calling the function with arguments `70` and `30` should return `(11,5)`."
   ]
  },
  {
   "cell_type": "code",
   "execution_count": 81,
   "metadata": {},
   "outputs": [
    {
     "name": "stdout",
     "output_type": "stream",
     "text": [
      "(11, 5)\n"
     ]
    }
   ],
   "source": [
    "random.seed(57)\n",
    "print(game(70, 30))"
   ]
  },
  {
   "cell_type": "markdown",
   "metadata": {},
   "source": [
    "**Question 1b:** Complete the following function `win_probability_game(ra, rb, simulations)` to simulate `simulations` games in order to estimate the probability that a player with ability `ra` will win a game against a player of ability `rb`.\n",
    "\n",
    "**[Functionality: 4 marks]**"
   ]
  },
  {
   "cell_type": "code",
   "execution_count": 82,
   "metadata": {},
   "outputs": [],
   "source": [
    "def win_probability_game(ra, rb, simulations):\n",
    "    a_win = 0\n",
    "    prob_a = 0.00\n",
    "    win = ()\n",
    "    for s in range (1, simulations):\n",
    "        win = game(ra, rb)\n",
    "        if (win[0] >= (win[1])):\n",
    "            a_win +=1\n",
    "    prob_a = a_win / simulations\n",
    "    return prob_a\n"
   ]
  },
  {
   "cell_type": "markdown",
   "metadata": {},
   "source": [
    "**Testing:** Given sufficient simulations, calling the function with abilities `70` and `30` should give the answer `0.98` when printed to 2 decimal places."
   ]
  },
  {
   "cell_type": "code",
   "execution_count": 83,
   "metadata": {},
   "outputs": [
    {
     "name": "stdout",
     "output_type": "stream",
     "text": [
      "0.98\n"
     ]
    }
   ],
   "source": [
    "# Print win_probability_game(70, 30) to 2 decimal places for a suitable value of n:\n",
    "print(round(win_probability_game(70, 30, 10000), 2))"
   ]
  },
  {
   "cell_type": "markdown",
   "metadata": {},
   "source": [
    "**Question 1c:** Assume players abilities are given in a csv file with the format:\n",
    "```\n",
    "player a ability, player b ability,\n",
    "60, 20,\n",
    "100, 55,\n",
    "50, 40,\n",
    "20, 70,\n",
    "95, 85,\n",
    "```\n",
    "Complete the following function to read in a specified csv file of this format and return a `list` of `tuple`s containing each pair of abilities.\n",
    "\n",
    "**[Functionality: 4 marks]**"
   ]
  },
  {
   "cell_type": "code",
   "execution_count": 84,
   "metadata": {},
   "outputs": [],
   "source": [
    "def read_abilities(filename):\n",
    "    with open (filename) as file:\n",
    "        line = file.readlines()\n",
    "        ability_start = line[1:] #Ignores beginning line\n",
    "        abilities = csv.reader(ability_start)\n",
    "        ability_list = list([(int(i[0]), int(i[1])) for i in abilities])\n",
    "        return ability_list\n"
   ]
  },
  {
   "cell_type": "markdown",
   "metadata": {},
   "source": [
    "**Testing:** Calling the function to read the file `test.csv` from Learning Central should return `[(60, 20), (100, 55), (50, 40), (20, 70), (95, 85)]`"
   ]
  },
  {
   "cell_type": "code",
   "execution_count": 85,
   "metadata": {},
   "outputs": [
    {
     "data": {
      "text/plain": [
       "[(60, 20), (100, 55), (50, 40), (20, 70), (95, 85)]"
      ]
     },
     "execution_count": 85,
     "metadata": {},
     "output_type": "execute_result"
    }
   ],
   "source": [
    "# Print the result of calling the function for the file `test.csv`\n",
    "read_abilities('test.csv')"
   ]
  },
  {
   "cell_type": "markdown",
   "metadata": {},
   "source": [
    "**Question 1d:** Write a function that takes a `list` of the format returned by your answer to 1c as an argument, and uses `matplotlib` to produce a plot (with labelled axes) showing the probability that player a beats player b (in a game) against `ra / r_b` for each pair.\n",
    "\n",
    "**[Functionality: 5 marks]**"
   ]
  },
  {
   "cell_type": "code",
   "execution_count": 86,
   "metadata": {},
   "outputs": [],
   "source": [
    "def plot_win_probabilities(data):\n",
    "    #Create blank lists for x and y axis\n",
    "    x_list = []\n",
    "    y_list =[]\n",
    "    \n",
    "    #Add values taken from csv file to x and y lists\n",
    "    for i in data: \n",
    "        ra = i[0]\n",
    "        rb = i[1]\n",
    "        y_list.append(win_probability_game(ra, rb, 500))\n",
    "        x_value = ra/rb\n",
    "        x_list.append(x_value)\n",
    "    \n",
    "    #Plotting the Graph\n",
    "    plt.plot(x_list, y_list, 'o')\n",
    "    plt.xlabel('ra/rb')\n",
    "    plt.ylabel('Probability A wins')\n",
    "    plt.show()\n",
    "    \n",
    "        "
   ]
  },
  {
   "cell_type": "markdown",
   "metadata": {},
   "source": [
    "**Testing:** The following figure (or similar) should result from the data `[(60, 20), (100, 55), (50, 40), (20, 70), (95, 85)]'\n",
    "\n",
    "<img src=\"./win_probabilities.png\" alt=\"Win probabilities\" width=\"500\">\n"
   ]
  },
  {
   "cell_type": "code",
   "execution_count": 87,
   "metadata": {},
   "outputs": [
    {
     "data": {
      "image/png": "[encoded data removed]",
      "text/plain": [
       "<Figure size 640x480 with 1 Axes>"
      ]
     },
     "metadata": {},
     "output_type": "display_data"
    }
   ],
   "source": [
    "# Call the function to plot the figure here\n",
    "plot_win_probabilities(read_abilities('test.csv')) "
   ]
  },
  {
   "cell_type": "markdown",
   "metadata": {},
   "source": [
    "**Question 1e:** Complete the following function `win_probability_match(ra, rb, simulations, m)` to simulate `simulations` matches which are won by the first player to win `m` games, and returns an estimate of the probability that a player with ability `ra` will win such a match against a player of ability `rb`.\n",
    "\n",
    "Provide code that works out the smallest value of `m` such that `win_probability_match(60, 40, simulations, m)` is at least `0.9`. \n",
    "\n",
    "_HINT: make sure you use an appropriate value for `simulations`._\n",
    "\n",
    "**[Functionality: 5 marks]**"
   ]
  },
  {
   "cell_type": "code",
   "execution_count": 88,
   "metadata": {},
   "outputs": [
    {
     "data": {
      "text/plain": [
       "1"
      ]
     },
     "execution_count": 88,
     "metadata": {},
     "output_type": "execute_result"
    }
   ],
   "source": [
    "def win_probability_match(ra, rb, simulations, m):\n",
    "    wins_a = 0\n",
    "    wins_b = 0\n",
    "    \n",
    "    for count in range (simulations):\n",
    "        games_a = 0\n",
    "        games_b = 0\n",
    "        game_over = False\n",
    "        \n",
    "        while not game_over:\n",
    "            score_a = game(ra, rb)\n",
    "            score_b = game(ra, rb)\n",
    "            if score_a > score_b:\n",
    "                games_a += 1\n",
    "            else:\n",
    "                games_b += 1\n",
    "\n",
    "            if games_a >= m:\n",
    "                wins_a += 1\n",
    "                game_over = True\n",
    "\n",
    "            elif games_b >= m:\n",
    "                wins_b += 1\n",
    "                game_over = True\n",
    "\n",
    "    probability = wins_a / simulations\n",
    "    return probability\n",
    "\n",
    "# Calculate lowest value of m here\n",
    "def smallest_match(ra, rb, simulations, m_h):\n",
    "\n",
    "    c = m_h\n",
    "    p = 1\n",
    "    \n",
    "    for m in range(m_h, 0, -1):\n",
    "        probability = win_probability_match(ra, rb, simulations, m)\n",
    "\n",
    "        if (probability >= 0.9) and (probability < p):\n",
    "            p = probability\n",
    "            c = m\n",
    "    return m\n",
    "\n",
    "smallest_match(60, 40, 500, 100)"
   ]
  },
  {
   "cell_type": "markdown",
   "metadata": {},
   "source": [
    "Question 2\n",
    "==========\n",
    "\n",
    "Complete the remaining template of a scientific report that uses the results of simulation (with suitable input data) to investigate whether English or PARS is the ``better'' scoring method for squash matches. \n",
    "\n",
    "You should clearly state any assumptions you make, and may add any number of code cells. Guidance for completing the markdown/text cells is given in the coursework specification. The word count of the remaining markdown/text cells must be at most 750.\n",
    "\n",
    "Your investigation should consider the relative ability of the two players (i.e. `ra/rb`) as the _independent variable_ and include appropriate figures that show how your choice of relevant _dependent variable_ varies. Your results **must** cover at least 50 different values of `ra/rb`.\n",
    "\n",
    "Some starting points you may consider:\n",
    "- How _fair_ is the scoring method - does the better player usually win?\n",
    "- Shorter matches are usually preferable (e.g. for television) - if you assume each rally in a match takes equal time, how long do matches typically last?\n",
    "- What effect does the relative ability of the two players have?\n",
    "\n",
    "**[Report: 7 marks; Achievement: 8 marks]**"
   ]
  },
  {
   "cell_type": "markdown",
   "metadata": {},
   "source": [
    "## Problem"
   ]
  },
  {
   "cell_type": "markdown",
   "metadata": {},
   "source": [
    "There are two factors that need to be considered when comparing the scoring methods of PARS and English squash. When investigating which method is better I need to consider how fair and unbias the method is in order to give both participants the fairest chance to win. However, the better player should still usually win. I will also need to consider the length of each match making sure they are not too long nor too short.\n",
    "\n"
   ]
  },
  {
   "cell_type": "markdown",
   "metadata": {},
   "source": [
    "## Method"
   ]
  },
  {
   "cell_type": "markdown",
   "metadata": {},
   "source": [
    "To deduce which is the 'better' scoring method I will run simulations of each method of squash scoring and using these simulations I will calculate the amount of rallies per game for English and PARS to calculate which has the average shorter run time. Furthermore, I will run simulations of games to calculate the probability of A winning with each scoring method while changing the level of abiliity of A; the ability level of B will remain constant at 100 while A's ability will increment from 1 to 200. To reduce the error interval within my results I will run 100,000 simulations which will help to increase the accuracy within the probability.\n",
    "\n",
    "To visualise the results from my simulations I will use madplotlib to plot the results on graphs. I will plot the probability of A winning and the rallies against the ability of A divided by the ability of B; this will help to see the trend between the changing ability of A and how this affects the number of rallies and the probability that A will win the game\n",
    "\n",
    "To achieve this I will create two algorithms for each scoring method."
   ]
  },
  {
   "cell_type": "code",
   "execution_count": 89,
   "metadata": {},
   "outputs": [],
   "source": [
    "import random\n",
    "import matplotlib.pyplot as plt\n",
    "\n",
    "def game_rallies(ra, rb):\n",
    "    probability_a = ra/(ra + rb)\n",
    "    score_a = 0\n",
    "    score_b = 0\n",
    "    rallies = 0\n",
    "    while (score_a != 11 and score_b <=9) or (score_b != 11 and score_a <=9):\n",
    "        rallies += 1\n",
    "        r_number = random.random()\n",
    "        if probability_a > r_number:\n",
    "            score_a += 1\n",
    "        else:\n",
    "            score_b += 1\n",
    "    return score_a, score_b, (score_a + score_b)\n",
    "\n",
    "def english_game(ra, rb):\n",
    "    score_a = 0\n",
    "    score_b = 0\n",
    "    game_over = False\n",
    "    english_rallies = 0\n",
    "    server = random.choice(['a','b'])\n",
    "    win_score = 9\n",
    "\n",
    "    probability_a = ra/(ra + rb)\n",
    "\n",
    "    while not game_over:\n",
    "        english_rallies += 1\n",
    "        r_number = random.random()\n",
    "        if server == 'a':\n",
    "            if probability_a > r_number:\n",
    "                score_a += 1\n",
    "            else:\n",
    "                score_b += 1\n",
    "                server = 'b'\n",
    "        if server == 'b':\n",
    "            if probability_a > r_number:\n",
    "               score_a += 1\n",
    "               server = 'a'\n",
    "            else:\n",
    "                score_b += 1\n",
    "        if score_a == 8 and score_b == 8:\n",
    "            win_score = random.choice([9, 10])\n",
    "        elif score_a == win_score or score_b == win_score:\n",
    "            game_over = True\n",
    "    return score_a, score_b, english_rallies\n",
    "\n",
    "\n",
    "\n",
    "def simulations(ra, rb, simulations, game_type):\n",
    "    a_wins = 0\n",
    "    b_wins = 0\n",
    "\n",
    "    for s in range(1, simulations):\n",
    "        \n",
    "        if game_type == 'english':\n",
    "            win = english_game(ra, rb)\n",
    "            if (win[0] >= (win[1])):\n",
    "                a_wins +=1\n",
    "            else:\n",
    "                b_wins +=1\n",
    "\n",
    "        if game_type == 'pars':\n",
    "            win = game(ra, rb)\n",
    "            if (win[0] >= (win[1])):\n",
    "                a_wins += 1\n",
    "            else:\n",
    "                b_wins +=1\n",
    "    probability_a = a_wins/simulations\n",
    "    return probability_a \n",
    "\n",
    "def plot_simulations(data):\n",
    "    #Create blank lists for x and y axis\n",
    "    x_list = []\n",
    "    y_list =[]\n",
    "    english_list=[]\n",
    "    \n",
    "    #Add values taken from csv file to x and y lists\n",
    "    for i in data: \n",
    "        ra = i[0]\n",
    "        rb = i[1]\n",
    "        y_list.append(simulations(ra, rb, 100000, 'pars'))\n",
    "        x_value = ra/rb\n",
    "        x_list.append(x_value)\n",
    "        english_list.append(simulations(ra, rb, 100000, 'english'))\n",
    "    \n",
    "    #Plotting the Graph\n",
    "    plt.plot(x_list, y_list, 'o', linestyle= 'dotted')\n",
    "    plt.plot(x_list, english_list, 'o', linestyle= 'dotted')\n",
    "    plt.xlabel('ra/rb')\n",
    "    plt.ylabel('Probability A wins')\n",
    "    plt.legend(['PARS', 'English'])\n",
    "    plt.title(\"Probability A Wins depending on Player A Ability\")\n",
    "    plt.show()\n",
    "\n",
    "#Inaccurate method of plotting rallies \n",
    "#def plot_rallies(data):\n",
    "    #x_list = []\n",
    "    #y_list = []\n",
    "    #english_list = []\n",
    "\n",
    "    #for i in data:\n",
    "        #ra = i[0]\n",
    "        #rb = i[1]\n",
    "        #_, _, rallies = game_rallies(ra, rb,)\n",
    "        #y_list.append(rallies)\n",
    "        #_, _, english_rallies = english_game(ra, rb)\n",
    "        #english_list.append(english_rallies)\n",
    "        #x_value = ra/rb\n",
    "        #x_list.append(x_value)\n",
    "\n",
    "    #plt.plot(x_list, y_list, 'o')\n",
    "    #plt.plot(x_list, english_list, 'o')\n",
    "    #plt.xlabel('ra/rb')\n",
    "    #plt.ylabel('Number of Rallies')\n",
    "    #plt.legend(['PARS', 'English'])\n",
    "    #plt.title('Number of rallies depending on Player A Ability')\n",
    "\n",
    "    "
   ]
  },
  {
   "cell_type": "markdown",
   "metadata": {},
   "source": [
    "## Assumptions"
   ]
  },
  {
   "cell_type": "markdown",
   "metadata": {},
   "source": [
    "The first assumption I have made in this report is that fatigue or injury play no factor in any of the simulations meaning that both players will play at their constant highest ability throughtout the duration of each game; this will benefit the higher ability player \n",
    "\n",
    "Another assumption I have made is through the use of the random module. When developing the english_game algorithm I have used random.choice for both the starting server and the condition for when both players reach the score of 8 to determine whether the game is played to 9 or 10. This randomness reduces the precision but as the range when using random.choice is so low, the effect will be minimal."
   ]
  },
  {
   "cell_type": "markdown",
   "metadata": {},
   "source": [
    "## Results"
   ]
  },
  {
   "cell_type": "code",
   "execution_count": 90,
   "metadata": {},
   "outputs": [
    {
     "data": {
      "image/png": "[encoded data removed]",
      "text/plain": [
       "<Figure size 640x480 with 1 Axes>"
      ]
     },
     "metadata": {},
     "output_type": "display_data"
    }
   ],
   "source": [
    "plot_simulations(read_abilities('values.csv'))"
   ]
  },
  {
   "cell_type": "markdown",
   "metadata": {},
   "source": [
    "The first graph shows that for the same skill difference between player A and player B with the PARS method, player A has a 31.3% increased chance of winning compared to the English method of scoring; this could be due to the way the English method handles who serves. In my algorithm, each player has a 50% chance of being the server through the random module and in the English method whoever becomes server first will have an increased chance of winning meaning the skill gap is less signifcant in the English method.\n",
    "\n",
    "The rallies graph showed that on average the English method had a longer rally time; this is due to the server only being able to score points in the English method. This graph also showed that on average less experienced players have shorter rallies than more experienced players, this is shown only the graph by the frequency density within the graph. On top of that, there are some outliers within the English graph with exceptionally high length of rallies.\n",
    "\n",
    "Overall, my results show that PARS is the 'better' scoring method as on average as it allows for shorter game times and results in less outliers in terms of the amount of rallies. However, the data also shows that the English method is the fairer way of scoring squash games as the graph shows that player A has an increasingly higher chance of winning through the PARS method no matter their ability."
   ]
  },
  {
   "cell_type": "markdown",
   "metadata": {},
   "source": [
    "## Conclusions"
   ]
  },
  {
   "cell_type": "markdown",
   "metadata": {},
   "source": [
    "My method gave some insight into which squash scoring method through analysing fairness of the methods and the total number of rallies during each game. However, more simulations and more data would give a more accurate conclusion of which method provides the better way of scoring. Moreover, without algorithms to simulate fatigue and random possible chances of injury there can be no solid evidence as to which is the most effective method. A further extension to improve the method would be to attempt to remove the random factor of some of the code to help improve precision."
   ]
  }
 ],
 "metadata": {
  "kernelspec": {
   "display_name": "Python 3.10.8 64-bit (microsoft store)",
   "language": "python",
   "name": "python3"
  },
  "language_info": {
   "codemirror_mode": {
    "name": "ipython",
    "version": 3
   },
   "file_extension": ".py",
   "mimetype": "text/x-python",
   "name": "python",
   "nbconvert_exporter": "python",
   "pygments_lexer": "ipython3",
   "version": "3.10.9"
  },
  "orig_nbformat": 4,
  "vscode": {
   "interpreter": {
    "hash": "5c3bfbc6ff6019d03be49adddeadb32ece50707b1a486f35c9fc36df1e1a69f5"
   }
  }
 },
 "nbformat": 4,
 "nbformat_minor": 2
}
